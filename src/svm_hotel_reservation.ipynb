{
 "cells": [
  {
   "cell_type": "code",
   "execution_count": 4,
   "metadata": {},
   "outputs": [],
   "source": [
    "import numpy as np\n",
    "import os, sys\n",
    "import h5py\n",
    "from optparse import OptionParser \n",
    "from sklearn.datasets import fetch_20newsgroups\n",
    "from sklearn.feature_extraction.text import HashingVectorizer\n",
    "from sklearn import svm\n",
    "from joblib import dump, load\n",
    "from sklearn import metrics\n",
    "import pandas as pd\n",
    "from sklearn.model_selection import train_test_split\n",
    "from joblib import dump, load\n",
    "import pickle"
   ]
  },
  {
   "cell_type": "code",
   "execution_count": 19,
   "metadata": {},
   "outputs": [],
   "source": [
    "global model\n",
    "epochs = 20\n",
    "nclasses = 6\n",
    "batchsize = 128\n",
    "model_path = \"../models/svm.checkpoint\""
   ]
  },
  {
   "cell_type": "code",
   "execution_count": 5,
   "metadata": {},
   "outputs": [
    {
     "name": "stdout",
     "output_type": "stream",
     "text": [
      "<class 'pandas.core.frame.DataFrame'>\n",
      "(999996, 7)\n"
     ]
    }
   ],
   "source": [
    "filehandler = open(\"../data/sample_data/hotel_reservation_sample.pkl\",\"rb\")\n",
    "dat = pickle.load(filehandler)\n",
    "filehandler.close()\n",
    "print(type(dat))\n",
    "print(dat.shape)"
   ]
  },
  {
   "cell_type": "code",
   "execution_count": 6,
   "metadata": {},
   "outputs": [],
   "source": [
    "X = dat.drop(columns = \"label\")\n",
    "y = dat.loc[:, \"label\"]"
   ]
  },
  {
   "cell_type": "code",
   "execution_count": 7,
   "metadata": {},
   "outputs": [],
   "source": [
    "X_train, X_test, y_train, y_test = train_test_split(X, y, test_size=0.2, random_state=42)"
   ]
  },
  {
   "cell_type": "code",
   "execution_count": 9,
   "metadata": {},
   "outputs": [
    {
     "name": "stdout",
     "output_type": "stream",
     "text": [
      "Using Hinge Loss SVM...\n"
     ]
    }
   ],
   "source": [
    "def createModel(modelname=\"svm\"):\n",
    "    from sklearn.linear_model import SGDClassifier\n",
    "    global model\n",
    "\n",
    "    # SVM classifier trained online with stochastic gradient descent\n",
    "    model = SGDClassifier(loss=\"hinge\", penalty=\"l2\")\n",
    "    if modelname == \"log\":\n",
    "        # Logistic Regresion classifier trained online with stochastic gradient descent\n",
    "        model = SGDClassifier(loss=\"log\", penalty=\"l2\")  \n",
    "        print(\"Using Logistic Regression...\")\n",
    "    if modelname == \"non-linear-svm\":\n",
    "        model = svm.SVC(kernel='rbf')\n",
    "        print(\"Using RBF kernel SVM...\")\n",
    "    else:\n",
    "        print(\"Using Hinge Loss SVM...\")\n",
    "        \n",
    "        \n",
    "createModel()"
   ]
  },
  {
   "cell_type": "code",
   "execution_count": 20,
   "metadata": {},
   "outputs": [],
   "source": [
    "def train( X_train, y_train, nClasses=2, batchSize=256):\n",
    "    best_score=0\n",
    "    X_count = X_train.shape[0]\n",
    "    batchCount= X_count // batchSize\n",
    "\n",
    "    j=0\n",
    "    shuffledRange = range(X_count)\n",
    "    shuffledX = X_train[shuffledRange,]\n",
    "    shuffledY = [y_train[i] for i in shuffledRange]\n",
    "\n",
    "    global model\n",
    "    for i in range(0, batchCount):  # Iterate over \"mini-batches\" of 1000 samples each\n",
    "        j+=1\n",
    "        y_train_batch = shuffledY[i*batchSize :(i +1)* batchSize]\n",
    "        X_train_batch = shuffledX[i*batchSize :(i +1)* batchSize,]\n",
    "        # vectorizer.fit_transform(train_data[i:i + batchSize])\n",
    "        # Update the classifier with documents in the current mini-batch\n",
    "        model.partial_fit(X_train_batch, y_train_batch, classes=range(nClasses))\n",
    "        \n",
    "for i in range(epochs):\n",
    "    train(X_train.to_numpy(), y_train.to_numpy(), nclasses, batchsize)\n",
    "    dump(model, model_path)"
   ]
  },
  {
   "cell_type": "code",
   "execution_count": 21,
   "metadata": {},
   "outputs": [
    {
     "name": "stdout",
     "output_type": "stream",
     "text": [
      "0.97282\n"
     ]
    }
   ],
   "source": [
    "score = model.score(X_test, y_test)\n",
    "print(score)"
   ]
  },
  {
   "cell_type": "code",
   "execution_count": 22,
   "metadata": {},
   "outputs": [],
   "source": [
    "y_pred = model.predict(X_test)\n",
    "fpr, tpr, thresholds = metrics.roc_curve(y_test, y_pred, pos_label=2)"
   ]
  },
  {
   "cell_type": "code",
   "execution_count": null,
   "metadata": {},
   "outputs": [],
   "source": []
  }
 ],
 "metadata": {
  "kernelspec": {
   "display_name": "Python 3",
   "language": "python",
   "name": "python3"
  },
  "language_info": {
   "codemirror_mode": {
    "name": "ipython",
    "version": 3
   },
   "file_extension": ".py",
   "mimetype": "text/x-python",
   "name": "python",
   "nbconvert_exporter": "python",
   "pygments_lexer": "ipython3",
   "version": "3.6.10"
  }
 },
 "nbformat": 4,
 "nbformat_minor": 4
}
