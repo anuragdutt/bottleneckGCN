{
 "cells": [
  {
   "cell_type": "code",
   "execution_count": 45,
   "metadata": {},
   "outputs": [],
   "source": [
    "import numpy as np\n",
    "import os, sys\n",
    "import h5py\n",
    "from optparse import OptionParser \n",
    "from sklearn.datasets import fetch_20newsgroups\n",
    "from sklearn.feature_extraction.text import HashingVectorizer\n",
    "from sklearn import svm\n",
    "from joblib import dump, load\n",
    "import pandas as pd\n",
    "from sklearn.model_selection import train_test_split\n",
    "from joblib import dump, load"
   ]
  },
  {
   "cell_type": "code",
   "execution_count": 46,
   "metadata": {},
   "outputs": [],
   "source": [
    "global model\n",
    "model = \"\"\n",
    "nclasses = 6\n",
    "batchsize = 100\n",
    "epochs = 20\n",
    "model_path = \"../models/svm.checkpoint\""
   ]
  },
  {
   "cell_type": "code",
   "execution_count": 47,
   "metadata": {},
   "outputs": [],
   "source": [
    "def meanNorm(X):\n",
    "    dfx = []\n",
    "    col = X.columns.tolist()\n",
    "    \n",
    "    for ix,r in X.iterrows():\n",
    "        r = pd.Series(r)\n",
    "        val = r.values.tolist()\n",
    "        s = sum(val)\n",
    "\n",
    "        rw = [i/s for i in val]\n",
    "\n",
    "        dfx.append(rw)\n",
    "\n",
    "    X = pd.DataFrame(dfx, columns = col)\n",
    "    return X\n",
    "\n",
    "def createModel(modelname=\"svm\"):\n",
    "    from sklearn.linear_model import SGDClassifier\n",
    "    global model\n",
    "\n",
    "    # SVM classifier trained online with stochastic gradient descent\n",
    "    model = SGDClassifier(loss=\"hinge\", penalty=\"l2\")\n",
    "    if modelname == \"log\":\n",
    "        # Logistic Regresion classifier trained online with stochastic gradient descent\n",
    "        model = SGDClassifier(loss=\"log\", penalty=\"l2\")  \n",
    "        print(\"Using Logistic Regression...\")\n",
    "    if modelname == \"non-linear-svm\":\n",
    "        model = svm.SVC(kernel='rbf')\n",
    "        print(\"Using RBF kernel SVM...\")\n",
    "    else:\n",
    "        print(\"Using Hinge Loss SVM...\")\n",
    "\n",
    "        \n",
    "def train( X_train, y_train, nClasses=2, batchSize=256):\n",
    "    best_score=0\n",
    "    X_count = X_train.shape[0]\n",
    "    batchCount= X_count // batchSize\n",
    "\n",
    "    j=0\n",
    "    shuffledRange = range(X_count)\n",
    "    shuffledX = X_train[shuffledRange,]\n",
    "    shuffledY = [y_train[i] for i in shuffledRange]\n",
    "\n",
    "    global model\n",
    "    for i in range(0, batchCount):  # Iterate over \"mini-batches\" of 1000 samples each\n",
    "        j+=1\n",
    "        y_train_batch = shuffledY[i*batchSize :(i +1)* batchSize]\n",
    "        X_train_batch = shuffledX[i*batchSize :(i +1)* batchSize,]\n",
    "        # vectorizer.fit_transform(train_data[i:i + batchSize])\n",
    "        # Update the classifier with documents in the current mini-batch\n",
    "        model.partial_fit(X_train_batch, y_train_batch, classes=range(nClasses))\n",
    "\n",
    "def test(X_test, y_test):\n",
    "    global model\n",
    "    score = model.score(X_test, y_test)\n",
    "    return score\n"
   ]
  },
  {
   "cell_type": "code",
   "execution_count": 48,
   "metadata": {},
   "outputs": [],
   "source": [
    "n0 = pd.read_csv(\"../data/tracing-data/hotel-reservation/0_frontend.csv\")\n",
    "n0['label'] = 0\n",
    "n1 = pd.read_csv(\"../data/tracing-data/hotel-reservation/1_search.csv\")\n",
    "n1['label'] = 1\n",
    "n2 = pd.read_csv(\"../data/tracing-data/hotel-reservation/2_geo.csv\")\n",
    "n2['label'] = 2\n",
    "n3 = pd.read_csv(\"../data/tracing-data/hotel-reservation/3_rate.csv\")\n",
    "n3['label'] = 3\n",
    "n4 = pd.read_csv(\"../data/tracing-data/hotel-reservation/4_profile.csv\")\n",
    "n4['label'] = 4\n",
    "n5 = pd.read_csv(\"../data/tracing-data/hotel-reservation/5_locale.csv\")\n",
    "n5['label'] = 5"
   ]
  },
  {
   "cell_type": "code",
   "execution_count": 49,
   "metadata": {},
   "outputs": [
    {
     "name": "stdout",
     "output_type": "stream",
     "text": [
      "(4740000, 8)\n"
     ]
    }
   ],
   "source": [
    "dat = pd.concat([n0, n1, n2, n3, n4, n5])\n",
    "print(dat.shape)\n",
    "dat = dat.iloc[0:10000, :]\n",
    "\n",
    "y = dat['label']\n",
    "X = dat[[\"0_frontend\", \"1_search\", \"2_geo\", \"3_rate\", \"4_profile\", \"5_locale\"]]\n",
    "\n",
    "X = meanNorm(X)"
   ]
  },
  {
   "cell_type": "code",
   "execution_count": 50,
   "metadata": {},
   "outputs": [],
   "source": [
    "X_train, X_test, y_train, y_test = train_test_split(X, y, test_size=0.2, random_state=42)"
   ]
  },
  {
   "cell_type": "code",
   "execution_count": 51,
   "metadata": {},
   "outputs": [
    {
     "name": "stdout",
     "output_type": "stream",
     "text": [
      "Using Hinge Loss SVM...\n"
     ]
    }
   ],
   "source": [
    "createModel()"
   ]
  },
  {
   "cell_type": "code",
   "execution_count": 52,
   "metadata": {},
   "outputs": [],
   "source": [
    "for i in range(epochs):\n",
    "    train(X_train.to_numpy(), y_train.to_numpy(), nclasses, batchsize)\n",
    "    dump(model, model_path)"
   ]
  },
  {
   "cell_type": "code",
   "execution_count": 53,
   "metadata": {},
   "outputs": [
    {
     "name": "stdout",
     "output_type": "stream",
     "text": [
      "1.0\n"
     ]
    }
   ],
   "source": [
    "score = model.score(X_test, y_test)\n",
    "print(score)"
   ]
  },
  {
   "cell_type": "code",
   "execution_count": 54,
   "metadata": {},
   "outputs": [
    {
     "data": {
      "text/plain": [
       "(10000, 8)"
      ]
     },
     "execution_count": 54,
     "metadata": {},
     "output_type": "execute_result"
    }
   ],
   "source": [
    "dat.shape"
   ]
  },
  {
   "cell_type": "code",
   "execution_count": null,
   "metadata": {},
   "outputs": [],
   "source": []
  },
  {
   "cell_type": "code",
   "execution_count": null,
   "metadata": {},
   "outputs": [],
   "source": []
  }
 ],
 "metadata": {
  "kernelspec": {
   "display_name": "Python 3",
   "language": "python",
   "name": "python3"
  },
  "language_info": {
   "codemirror_mode": {
    "name": "ipython",
    "version": 3
   },
   "file_extension": ".py",
   "mimetype": "text/x-python",
   "name": "python",
   "nbconvert_exporter": "python",
   "pygments_lexer": "ipython3",
   "version": "3.6.10"
  }
 },
 "nbformat": 4,
 "nbformat_minor": 4
}
